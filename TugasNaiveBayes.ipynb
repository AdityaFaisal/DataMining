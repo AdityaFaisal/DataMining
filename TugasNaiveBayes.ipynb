{
  "nbformat": 4,
  "nbformat_minor": 0,
  "metadata": {
    "colab": {
      "name": "TugasNaiveBayes.ipynb",
      "provenance": [],
      "authorship_tag": "ABX9TyMOYSnb3YKogIWCD5IiDjWe",
      "include_colab_link": true
    },
    "kernelspec": {
      "name": "python3",
      "display_name": "Python 3"
    },
    "language_info": {
      "name": "python"
    }
  },
  "cells": [
    {
      "cell_type": "markdown",
      "metadata": {
        "id": "view-in-github",
        "colab_type": "text"
      },
      "source": [
        "<a href=\"https://colab.research.google.com/github/AdityaFaisal/DataMining/blob/main/TugasNaiveBayes.ipynb\" target=\"_parent\"><img src=\"https://colab.research.google.com/assets/colab-badge.svg\" alt=\"Open In Colab\"/></a>"
      ]
    },
    {
      "cell_type": "code",
      "metadata": {
        "id": "WE8IY-Nib3xB"
      },
      "source": [
        "import numpy as np\n",
        "import matplotlib.pyplot as plt\n",
        "import pandas as pd"
      ],
      "execution_count": 18,
      "outputs": []
    },
    {
      "cell_type": "code",
      "metadata": {
        "id": "g4K8vscokWwS"
      },
      "source": [
        "dataset = pd.read_csv(\"chord-progressions.csv\")\n",
        "x = dataset.iloc[:, [2,3]].values\n",
        "y = dataset.iloc[:, -2].values"
      ],
      "execution_count": 32,
      "outputs": []
    },
    {
      "cell_type": "code",
      "metadata": {
        "colab": {
          "base_uri": "https://localhost:8080/"
        },
        "id": "KhLco47ptqeK",
        "outputId": "a65c6cac-db92-40ee-dc15-5bfa92daab3e"
      },
      "source": [
        "print(x\n",
        "      )"
      ],
      "execution_count": 33,
      "outputs": [
        {
          "output_type": "stream",
          "text": [
            "[[1 5]\n",
            " [1 5]\n",
            " [1 1]\n",
            " [4 5]\n",
            " [2 5]\n",
            " [2 4]\n",
            " [4 6]\n",
            " [1 4]\n",
            " [1 4]\n",
            " [4 3]\n",
            " [6 5]\n",
            " [3 6]\n",
            " [1 6]\n",
            " [5 4]\n",
            " [1 5]\n",
            " [6 4]\n",
            " [3 7]\n",
            " [4 5]\n",
            " [5 5]\n",
            " [4 4]\n",
            " [5 4]\n",
            " [1 1]\n",
            " [1 4]\n",
            " [5 1]\n",
            " [1 4]\n",
            " [4 6]\n",
            " [5 7]\n",
            " [7 6]\n",
            " [1 6]\n",
            " [5 4]\n",
            " [1 5]\n",
            " [6 4]\n",
            " [3 7]\n",
            " [4 5]\n",
            " [5 5]\n",
            " [4 4]\n",
            " [5 4]\n",
            " [1 1]\n",
            " [1 4]\n",
            " [5 1]\n",
            " [1 4]\n",
            " [4 6]\n",
            " [5 7]\n",
            " [7 6]]\n"
          ],
          "name": "stdout"
        }
      ]
    },
    {
      "cell_type": "code",
      "metadata": {
        "colab": {
          "base_uri": "https://localhost:8080/"
        },
        "id": "tBhCtU-LtuJD",
        "outputId": "291dd891-bc14-4f6d-c295-d0be01d961ee"
      },
      "source": [
        "print(y)"
      ],
      "execution_count": 35,
      "outputs": [
        {
          "output_type": "stream",
          "text": [
            "[5 5 1 5 5 4 6 4 4 3 5 6 6 4 5 4 7 5 5 4 4 1 4 1 4 6 7 6 6 4 5 4 7 5 5 4 4\n",
            " 1 4 1 4 6 7 6]\n"
          ],
          "name": "stdout"
        }
      ]
    },
    {
      "cell_type": "code",
      "metadata": {
        "id": "Q1f8iZEqt469"
      },
      "source": [
        "from sklearn.model_selection import train_test_split\n",
        "x_train, x_test, y_train, y_test = train_test_split(x, y, test_size=0.25, random_state=0)"
      ],
      "execution_count": 36,
      "outputs": []
    },
    {
      "cell_type": "code",
      "metadata": {
        "colab": {
          "base_uri": "https://localhost:8080/"
        },
        "id": "5u7fVuxauAT2",
        "outputId": "815ea91a-8822-4941-f558-d5987520467a"
      },
      "source": [
        "print(x_train)"
      ],
      "execution_count": 37,
      "outputs": [
        {
          "output_type": "stream",
          "text": [
            "[[5 4]\n",
            " [4 6]\n",
            " [1 1]\n",
            " [7 6]\n",
            " [5 5]\n",
            " [6 4]\n",
            " [1 4]\n",
            " [3 7]\n",
            " [1 4]\n",
            " [1 4]\n",
            " [5 4]\n",
            " [2 4]\n",
            " [4 5]\n",
            " [3 7]\n",
            " [1 5]\n",
            " [4 4]\n",
            " [1 4]\n",
            " [5 5]\n",
            " [1 5]\n",
            " [5 7]\n",
            " [1 6]\n",
            " [4 5]\n",
            " [1 4]\n",
            " [4 6]\n",
            " [5 1]\n",
            " [5 4]\n",
            " [1 1]\n",
            " [4 4]\n",
            " [4 3]\n",
            " [5 1]\n",
            " [5 7]\n",
            " [4 5]\n",
            " [1 5]]\n"
          ],
          "name": "stdout"
        }
      ]
    },
    {
      "cell_type": "code",
      "metadata": {
        "colab": {
          "base_uri": "https://localhost:8080/"
        },
        "id": "FM7snSEzuEoT",
        "outputId": "36c949af-96db-4b8f-ccc5-0590b83d60d9"
      },
      "source": [
        "print(x_test)"
      ],
      "execution_count": 38,
      "outputs": [
        {
          "output_type": "stream",
          "text": [
            "[[1 5]\n",
            " [1 1]\n",
            " [7 6]\n",
            " [2 5]\n",
            " [6 5]\n",
            " [4 6]\n",
            " [1 6]\n",
            " [3 6]\n",
            " [1 4]\n",
            " [6 4]\n",
            " [5 4]]\n"
          ],
          "name": "stdout"
        }
      ]
    },
    {
      "cell_type": "code",
      "metadata": {
        "colab": {
          "base_uri": "https://localhost:8080/"
        },
        "id": "Llk-2sfbuJfd",
        "outputId": "aa67fe7c-eaf7-4e70-8b8a-feadb5c3d9fd"
      },
      "source": [
        "print(y_train)"
      ],
      "execution_count": 39,
      "outputs": [
        {
          "output_type": "stream",
          "text": [
            "[4 6 1 6 5 4 4 7 4 4 4 4 5 7 5 4 4 5 5 7 6 5 4 6 1 4 1 4 3 1 7 5 5]\n"
          ],
          "name": "stdout"
        }
      ]
    },
    {
      "cell_type": "code",
      "metadata": {
        "colab": {
          "base_uri": "https://localhost:8080/"
        },
        "id": "BcvD3IuxuOK8",
        "outputId": "f6583a1d-4d8e-42e8-df00-57d0f37ff9d6"
      },
      "source": [
        "print(y_test)"
      ],
      "execution_count": 40,
      "outputs": [
        {
          "output_type": "stream",
          "text": [
            "[5 1 6 5 5 6 6 6 4 4 4]\n"
          ],
          "name": "stdout"
        }
      ]
    },
    {
      "cell_type": "code",
      "metadata": {
        "id": "39RNQMq0uQzP"
      },
      "source": [
        "from sklearn.preprocessing import StandardScaler\n",
        "sc = StandardScaler()\n",
        "x_train = sc.fit_transform(x_train)\n",
        "x_test = sc.transform(x_test)"
      ],
      "execution_count": 41,
      "outputs": []
    },
    {
      "cell_type": "code",
      "metadata": {
        "colab": {
          "base_uri": "https://localhost:8080/"
        },
        "id": "28Zs9Eaeu5dX",
        "outputId": "ef36153f-4ea9-49f2-fb73-7b842d6c5b7b"
      },
      "source": [
        "print(x_train)"
      ],
      "execution_count": 42,
      "outputs": [
        {
          "output_type": "stream",
          "text": [
            "[[ 0.92539864 -0.27496334]\n",
            " [ 0.38007444  0.93487536]\n",
            " [-1.25589815 -2.08972139]\n",
            " [ 2.01604704  0.93487536]\n",
            " [ 0.92539864  0.32995601]\n",
            " [ 1.47072284 -0.27496334]\n",
            " [-1.25589815 -0.27496334]\n",
            " [-0.16524976  1.53979471]\n",
            " [-1.25589815 -0.27496334]\n",
            " [-1.25589815 -0.27496334]\n",
            " [ 0.92539864 -0.27496334]\n",
            " [-0.71057396 -0.27496334]\n",
            " [ 0.38007444  0.32995601]\n",
            " [-0.16524976  1.53979471]\n",
            " [-1.25589815  0.32995601]\n",
            " [ 0.38007444 -0.27496334]\n",
            " [-1.25589815 -0.27496334]\n",
            " [ 0.92539864  0.32995601]\n",
            " [-1.25589815  0.32995601]\n",
            " [ 0.92539864  1.53979471]\n",
            " [-1.25589815  0.93487536]\n",
            " [ 0.38007444  0.32995601]\n",
            " [-1.25589815 -0.27496334]\n",
            " [ 0.38007444  0.93487536]\n",
            " [ 0.92539864 -2.08972139]\n",
            " [ 0.92539864 -0.27496334]\n",
            " [-1.25589815 -2.08972139]\n",
            " [ 0.38007444 -0.27496334]\n",
            " [ 0.38007444 -0.87988269]\n",
            " [ 0.92539864 -2.08972139]\n",
            " [ 0.92539864  1.53979471]\n",
            " [ 0.38007444  0.32995601]\n",
            " [-1.25589815  0.32995601]]\n"
          ],
          "name": "stdout"
        }
      ]
    },
    {
      "cell_type": "code",
      "metadata": {
        "colab": {
          "base_uri": "https://localhost:8080/"
        },
        "id": "CncKd-fUu-TM",
        "outputId": "3822a2cf-ac67-480d-8827-60a349f27b06"
      },
      "source": [
        "print(x_test)"
      ],
      "execution_count": 43,
      "outputs": [
        {
          "output_type": "stream",
          "text": [
            "[[-1.25589815  0.32995601]\n",
            " [-1.25589815 -2.08972139]\n",
            " [ 2.01604704  0.93487536]\n",
            " [-0.71057396  0.32995601]\n",
            " [ 1.47072284  0.32995601]\n",
            " [ 0.38007444  0.93487536]\n",
            " [-1.25589815  0.93487536]\n",
            " [-0.16524976  0.93487536]\n",
            " [-1.25589815 -0.27496334]\n",
            " [ 1.47072284 -0.27496334]\n",
            " [ 0.92539864 -0.27496334]]\n"
          ],
          "name": "stdout"
        }
      ]
    },
    {
      "cell_type": "code",
      "metadata": {
        "colab": {
          "base_uri": "https://localhost:8080/"
        },
        "id": "-JYZrrV-vHJv",
        "outputId": "88b61bd7-99c5-47d0-e538-25365a9f517c"
      },
      "source": [
        "from sklearn.naive_bayes import GaussianNB\n",
        "classifier = GaussianNB()\n",
        "classifier.fit(x_train, y_train)"
      ],
      "execution_count": 44,
      "outputs": [
        {
          "output_type": "execute_result",
          "data": {
            "text/plain": [
              "GaussianNB(priors=None, var_smoothing=1e-09)"
            ]
          },
          "metadata": {
            "tags": []
          },
          "execution_count": 44
        }
      ]
    },
    {
      "cell_type": "code",
      "metadata": {
        "id": "Usg2ErisvLyj"
      },
      "source": [
        "y_pred = classifier.predict(x_test)"
      ],
      "execution_count": 45,
      "outputs": []
    },
    {
      "cell_type": "code",
      "metadata": {
        "colab": {
          "base_uri": "https://localhost:8080/"
        },
        "id": "pO961eV1vOjL",
        "outputId": "1d6faec1-8d9b-4bb1-92f9-ac9bbdfce0ea"
      },
      "source": [
        "from sklearn.metrics import confusion_matrix\n",
        "cm = confusion_matrix(y_test, y_pred)\n",
        "print(cm)"
      ],
      "execution_count": 46,
      "outputs": [
        {
          "output_type": "stream",
          "text": [
            "[[1 0 0 0]\n",
            " [0 3 0 0]\n",
            " [0 0 3 0]\n",
            " [0 0 0 4]]\n"
          ],
          "name": "stdout"
        }
      ]
    },
    {
      "cell_type": "code",
      "metadata": {
        "colab": {
          "base_uri": "https://localhost:8080/",
          "height": 366
        },
        "id": "ZAGE65m1vRuk",
        "outputId": "1408fb50-6073-422f-b5d7-c878474f4cf9"
      },
      "source": [
        "from matplotlib.colors import ListedColormap\n",
        "x_set, y_set = x_train, y_train\n",
        "x1, x2 = np.meshgrid(np.arange(start = x_set[:, 0].min()-1, stop = x_set[:,0].max()+1, step=0.01),\n",
        "                     np.arange(start = x_set[:, 1].min()-1, stop = x_set[:,1].max()+1, step=0.01))\n",
        "plt.contourf(x1,x2, classifier.predict(np.array([x1.ravel(), x2.ravel()]).T).reshape(x1.shape),\n",
        "              alpha = 0.75, cmap = ListedColormap(('red', 'green')))\n",
        "plt.xlim(x1.min(), x1.max())\n",
        "plt.ylim(x2.min(), x2.max())\n",
        "for i, j in enumerate (np.unique(y_set)):\n",
        "    plt.scatter(x_set[y_set == j, 0], x_set[y_set == j, 1],\n",
        "                c = ListedColormap(('red', 'green'))(i), label = j)\n",
        "plt.title('KLASIFIKASI DATA DENGAN NAIVE BEYES (Data Training)')\n",
        "plt.xlabel('Model')\n",
        "plt.ylabel('MPG')\n",
        "plt.legend()\n",
        "plt.show()"
      ],
      "execution_count": 47,
      "outputs": [
        {
          "output_type": "stream",
          "text": [
            "*c* argument looks like a single numeric RGB or RGBA sequence, which should be avoided as value-mapping will have precedence in case its length matches with *x* & *y*.  Please use the *color* keyword-argument or provide a 2-D array with a single row if you intend to specify the same RGB or RGBA value for all points.\n",
            "*c* argument looks like a single numeric RGB or RGBA sequence, which should be avoided as value-mapping will have precedence in case its length matches with *x* & *y*.  Please use the *color* keyword-argument or provide a 2-D array with a single row if you intend to specify the same RGB or RGBA value for all points.\n",
            "*c* argument looks like a single numeric RGB or RGBA sequence, which should be avoided as value-mapping will have precedence in case its length matches with *x* & *y*.  Please use the *color* keyword-argument or provide a 2-D array with a single row if you intend to specify the same RGB or RGBA value for all points.\n"
          ],
          "name": "stderr"
        },
        {
          "output_type": "display_data",
          "data": {
            "image/png": "[encoded data removed]",
            "text/plain": [
              "<Figure size 432x288 with 1 Axes>"
            ]
          },
          "metadata": {
            "tags": [],
            "needs_background": "light"
          }
        }
      ]
    },
    {
      "cell_type": "code",
      "metadata": {
        "colab": {
          "base_uri": "https://localhost:8080/",
          "height": 366
        },
        "id": "dlqLNOqxva6Q",
        "outputId": "4d2ecd46-3cd4-45aa-9e43-72dbfd3d543a"
      },
      "source": [
        "from matplotlib.colors import ListedColormap\n",
        "x_set, y_set = x_train, y_train\n",
        "x1, x2 = np.meshgrid(np.arange(start = x_set[:, 0].min()-1, stop = x_set[:,0].max()+1, step=0.01),\n",
        "                     np.arange(start = x_set[:, 1].min()-1, stop = x_set[:,1].max()+1, step=0.01))\n",
        "plt.contourf(x1,x2, classifier.predict(np.array([x1.ravel(), x2.ravel()]).T).reshape(x1.shape),\n",
        "              alpha = 0.75, cmap = ListedColormap(('red', 'green')))\n",
        "plt.xlim(x1.min(), x1.max())\n",
        "plt.ylim(x2.min(), x2.max())\n",
        "for i, j in enumerate (np.unique(y_set)):\n",
        "    plt.scatter(x_set[y_set == j, 0], x_set[y_set == j, 1],\n",
        "                c = ListedColormap(('red', 'green'))(i), label = j)\n",
        "plt.title('KLASIFIKASI DATA DENGAN NAIVE BEYES (Data Training)')\n",
        "plt.xlabel('Model')\n",
        "plt.ylabel('MPG')\n",
        "plt.legend()\n",
        "plt.show()"
      ],
      "execution_count": 48,
      "outputs": [
        {
          "output_type": "stream",
          "text": [
            "*c* argument looks like a single numeric RGB or RGBA sequence, which should be avoided as value-mapping will have precedence in case its length matches with *x* & *y*.  Please use the *color* keyword-argument or provide a 2-D array with a single row if you intend to specify the same RGB or RGBA value for all points.\n",
            "*c* argument looks like a single numeric RGB or RGBA sequence, which should be avoided as value-mapping will have precedence in case its length matches with *x* & *y*.  Please use the *color* keyword-argument or provide a 2-D array with a single row if you intend to specify the same RGB or RGBA value for all points.\n",
            "*c* argument looks like a single numeric RGB or RGBA sequence, which should be avoided as value-mapping will have precedence in case its length matches with *x* & *y*.  Please use the *color* keyword-argument or provide a 2-D array with a single row if you intend to specify the same RGB or RGBA value for all points.\n"
          ],
          "name": "stderr"
        },
        {
          "output_type": "display_data",
          "data": {
            "image/png": "[encoded data removed]",
            "text/plain": [
              "<Figure size 432x288 with 1 Axes>"
            ]
          },
          "metadata": {
            "tags": [],
            "needs_background": "light"
          }
        }
      ]
    }
  ]
}