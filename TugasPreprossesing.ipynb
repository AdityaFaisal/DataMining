{
  "nbformat": 4,
  "nbformat_minor": 0,
  "metadata": {
    "colab": {
      "name": "TugasPreprossesing.ipynb",
      "provenance": [],
      "collapsed_sections": [],
      "authorship_tag": "ABX9TyP8GJf0ezXxV+xehwU/B04Z",
      "include_colab_link": true
    },
    "kernelspec": {
      "name": "python3",
      "display_name": "Python 3"
    },
    "language_info": {
      "name": "python"
    }
  },
  "cells": [
    {
      "cell_type": "markdown",
      "metadata": {
        "id": "view-in-github",
        "colab_type": "text"
      },
      "source": [
        "<a href=\"https://colab.research.google.com/github/AdityaFaisal/DataMining/blob/main/TugasPreprossesing.ipynb\" target=\"_parent\"><img src=\"https://colab.research.google.com/assets/colab-badge.svg\" alt=\"Open In Colab\"/></a>"
      ]
    },
    {
      "cell_type": "code",
      "metadata": {
        "id": "3Be0wGDOFYJr"
      },
      "source": [
        "import numpy as np\n",
        "import matplotlib.pyplot as plt\n",
        "import pandas as pd\n"
      ],
      "execution_count": 157,
      "outputs": []
    },
    {
      "cell_type": "code",
      "metadata": {
        "id": "Xl3w2DP2MPri"
      },
      "source": [
        "dataset = pd.read_csv('Tugas.csv')\n",
        "x = dataset.iloc[:, :-1].values\n",
        "y = dataset.iloc[:, -1].values"
      ],
      "execution_count": 164,
      "outputs": []
    },
    {
      "cell_type": "code",
      "metadata": {
        "colab": {
          "base_uri": "https://localhost:8080/"
        },
        "id": "tYvhIA43MXs-",
        "outputId": "44697d1b-2464-4ac4-f564-9faa02a6598a"
      },
      "source": [
        "print(x)"
      ],
      "execution_count": 165,
      "outputs": [
        {
          "output_type": "stream",
          "text": [
            "[['Kevin' 4.0 720000.0]\n",
            " ['Zidan' 2.0 4800000.0]\n",
            " ['Serli' 3.0 2400000.0]\n",
            " ['Zidan' 3.0 1200000.0]\n",
            " ['Serli' 4.0 nan]\n",
            " ['Kevin' 3.0 5800000.0]\n",
            " ['Zidan' nan 5200000.0]\n",
            " ['Kevin' 8.0 1500000.0]\n",
            " ['Serli' 5.0 4300000.0]\n",
            " ['Kevin' 7.0 2000000.0]]\n"
          ],
          "name": "stdout"
        }
      ]
    },
    {
      "cell_type": "code",
      "metadata": {
        "colab": {
          "base_uri": "https://localhost:8080/"
        },
        "id": "iMYS0lTnRSyG",
        "outputId": "c95114f5-2c36-4a0a-a57d-4062edcec1fc"
      },
      "source": [
        "print(y)"
      ],
      "execution_count": 166,
      "outputs": [
        {
          "output_type": "stream",
          "text": [
            "['No' 'Yes' 'No' 'No' 'Yes' 'Yes' 'No' 'Yes' 'No' 'Yes']\n"
          ],
          "name": "stdout"
        }
      ]
    },
    {
      "cell_type": "code",
      "metadata": {
        "id": "tG3vTKn-YlXQ"
      },
      "source": [
        "from sklearn.impute import SimpleImputer\n",
        "imputer = SimpleImputer(missing_values=np.nan, strategy='mean')\n",
        "imputer.fit(x[:, 1:4])\n",
        "x[:, 1:4] = imputer.transform(x[:, 1:4])"
      ],
      "execution_count": 183,
      "outputs": []
    },
    {
      "cell_type": "code",
      "metadata": {
        "colab": {
          "base_uri": "https://localhost:8080/"
        },
        "id": "eaPj8qniYtQ-",
        "outputId": "abb352dc-035b-43bc-db89-20dd1ae568a0"
      },
      "source": [
        "print(x)"
      ],
      "execution_count": 185,
      "outputs": [
        {
          "output_type": "stream",
          "text": [
            "[[1.0 0.0 0.0 4.0 720000.0]\n",
            " [0.0 0.0 1.0 2.0 4800000.0]\n",
            " [0.0 1.0 0.0 3.0 2400000.0]\n",
            " [0.0 0.0 1.0 3.0 1200000.0]\n",
            " [0.0 1.0 0.0 4.0 3102222.222222222]\n",
            " [1.0 0.0 0.0 3.0 5800000.0]\n",
            " [0.0 0.0 1.0 4.333333333333333 5200000.0]\n",
            " [1.0 0.0 0.0 8.0 1500000.0]\n",
            " [0.0 1.0 0.0 5.0 4300000.0]\n",
            " [1.0 0.0 0.0 7.0 2000000.0]]\n"
          ],
          "name": "stdout"
        }
      ]
    },
    {
      "cell_type": "code",
      "metadata": {
        "id": "oMSbZ4AhZNbQ"
      },
      "source": [
        "from sklearn.compose import ColumnTransformer\n",
        "from sklearn.preprocessing import OneHotEncoder\n",
        "ct = ColumnTransformer(transformers=[('encoder', OneHotEncoder(),[0])], remainder='passthrough')\n",
        "x = np.array(ct.fit_transform(x))"
      ],
      "execution_count": 186,
      "outputs": []
    },
    {
      "cell_type": "code",
      "metadata": {
        "colab": {
          "base_uri": "https://localhost:8080/"
        },
        "id": "a9c_wff_ZR4y",
        "outputId": "41d0ecfa-b2db-4e72-ab60-3e41621a814b"
      },
      "source": [
        "print(x)"
      ],
      "execution_count": 187,
      "outputs": [
        {
          "output_type": "stream",
          "text": [
            "[[0.0 1.0 0.0 0.0 4.0 720000.0]\n",
            " [1.0 0.0 0.0 1.0 2.0 4800000.0]\n",
            " [1.0 0.0 1.0 0.0 3.0 2400000.0]\n",
            " [1.0 0.0 0.0 1.0 3.0 1200000.0]\n",
            " [1.0 0.0 1.0 0.0 4.0 3102222.222222222]\n",
            " [0.0 1.0 0.0 0.0 3.0 5800000.0]\n",
            " [1.0 0.0 0.0 1.0 4.333333333333333 5200000.0]\n",
            " [0.0 1.0 0.0 0.0 8.0 1500000.0]\n",
            " [1.0 0.0 1.0 0.0 5.0 4300000.0]\n",
            " [0.0 1.0 0.0 0.0 7.0 2000000.0]]\n"
          ],
          "name": "stdout"
        }
      ]
    },
    {
      "cell_type": "code",
      "metadata": {
        "id": "3GDhOZfdZWWD"
      },
      "source": [
        "from sklearn.preprocessing import LabelEncoder\n",
        "le = LabelEncoder()\n",
        "y = le.fit_transform(y)"
      ],
      "execution_count": 188,
      "outputs": []
    },
    {
      "cell_type": "code",
      "metadata": {
        "colab": {
          "base_uri": "https://localhost:8080/"
        },
        "id": "zjs2gAnwZY6-",
        "outputId": "ca81a059-fe18-4227-fbe6-449a5b736f9c"
      },
      "source": [
        "print(y)"
      ],
      "execution_count": 189,
      "outputs": [
        {
          "output_type": "stream",
          "text": [
            "[0 1 0 0 1 1 0 1 0 1]\n"
          ],
          "name": "stdout"
        }
      ]
    },
    {
      "cell_type": "code",
      "metadata": {
        "id": "XFMPii6BZb_X"
      },
      "source": [
        "from sklearn.model_selection import train_test_split\n",
        "x_train, x_text, y_train, y_test = train_test_split(x,y, test_size=0.3, random_state=1)"
      ],
      "execution_count": 190,
      "outputs": []
    },
    {
      "cell_type": "code",
      "metadata": {
        "colab": {
          "base_uri": "https://localhost:8080/"
        },
        "id": "NnTt-n7zZfKT",
        "outputId": "0dad355c-0c1b-46e3-f87e-1ac17b54f66c"
      },
      "source": [
        "print(x_train)"
      ],
      "execution_count": 191,
      "outputs": [
        {
          "output_type": "stream",
          "text": [
            "[[1.0 0.0 1.0 0.0 4.0 3102222.222222222]\n",
            " [0.0 1.0 0.0 0.0 4.0 720000.0]\n",
            " [1.0 0.0 0.0 1.0 3.0 1200000.0]\n",
            " [1.0 0.0 0.0 1.0 2.0 4800000.0]\n",
            " [0.0 1.0 0.0 0.0 8.0 1500000.0]\n",
            " [1.0 0.0 1.0 0.0 5.0 4300000.0]\n",
            " [0.0 1.0 0.0 0.0 3.0 5800000.0]]\n"
          ],
          "name": "stdout"
        }
      ]
    },
    {
      "cell_type": "code",
      "metadata": {
        "colab": {
          "base_uri": "https://localhost:8080/"
        },
        "id": "g7DczBOkZl2j",
        "outputId": "45929e8b-cf62-4cfd-8547-19072b12082c"
      },
      "source": [
        "print (y_test)"
      ],
      "execution_count": 192,
      "outputs": [
        {
          "output_type": "stream",
          "text": [
            "[0 1 0]\n"
          ],
          "name": "stdout"
        }
      ]
    },
    {
      "cell_type": "code",
      "metadata": {
        "id": "ySm5jwq_Zt6V"
      },
      "source": [
        "from sklearn.preprocessing import StandardScaler\n",
        "sc = StandardScaler()\n",
        "x_train[:, 5:] =sc.fit_transform(x_train[:, 5:])\n",
        "x_text[:, 5:] =sc.transform(x_text[:, 5:])"
      ],
      "execution_count": 193,
      "outputs": []
    },
    {
      "cell_type": "code",
      "metadata": {
        "colab": {
          "base_uri": "https://localhost:8080/"
        },
        "id": "L20gANgEZw7M",
        "outputId": "1dbc68ed-9109-4894-fa66-ae1f7a82f802"
      },
      "source": [
        "print(x_text)"
      ],
      "execution_count": 194,
      "outputs": [
        {
          "output_type": "stream",
          "text": [
            "[[1.0 0.0 1.0 0.0 3.0 -0.36082088630000125]\n",
            " [0.0 1.0 0.0 0.0 7.0 -0.579395077039425]\n",
            " [1.0 0.0 0.0 1.0 4.333333333333333 1.1691984488759655]]\n"
          ],
          "name": "stdout"
        }
      ]
    }
  ]
}